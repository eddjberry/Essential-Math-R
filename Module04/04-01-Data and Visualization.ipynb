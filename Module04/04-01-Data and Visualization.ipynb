{
 "cells": [
  {
   "cell_type": "markdown",
   "metadata": {},
   "source": [
    "# Data and Data Visualization\n",
    "Machine learning, and therefore a large part of AI, is based on statistical analysis of data. In this notebook, you'll examine some fundamental concepts related to data and data visualization."
   ]
  },
  {
   "cell_type": "markdown",
   "metadata": {},
   "source": [
    "## Introduction to Data\n",
    "Statistics are based on data, which consist of a collection of pieces of information about things you want to study. This information can take the form of descriptions, quantities, measurements, and other observations. Typically, we work with related data items in a *dataset*, which often consists of a collection of *observations* or *cases*. Most commonly, we thing about this dataset as a table that consists of a row for each observation, and a column for each individual data point related to that observation - we variously call these data points *attributes* or *features*, and they each describe a specific characteristic of the thing we're observing.\n",
    "\n",
    "Let's take a look at a real example. In 1886, Francis Galton conducted a study into the relationship between heights of parents and their (adult) children. Run the R code below to view the data he collected (you can safely ignore a deprecation warning if it is displayed):"
   ]
  },
  {
   "cell_type": "code",
   "execution_count": 2,
   "metadata": {
    "scrolled": true
   },
   "outputs": [
    {
     "name": "stderr",
     "output_type": "stream",
     "text": [
      "Installing package into ‘/Users/ebe01/Library/R/3.4/library’\n",
      "(as ‘lib’ is unspecified)\n"
     ]
    },
    {
     "name": "stdout",
     "output_type": "stream",
     "text": [
      "\n",
      "The downloaded binary packages are in\n",
      "\t/var/folders/rh/983_3ndn3g3gfk7ryl7hf02x2150d8/T//RtmpjVbO6D/downloaded_packages\n"
     ]
    },
    {
     "name": "stderr",
     "output_type": "stream",
     "text": [
      "Warning message:\n",
      "“package ‘HistData’ was built under R version 3.4.4”"
     ]
    },
    {
     "data": {
      "text/html": [
       "<table>\n",
       "<thead><tr><th scope=col>family</th><th scope=col>father</th><th scope=col>mother</th><th scope=col>midparentHeight</th><th scope=col>children</th><th scope=col>childNum</th><th scope=col>gender</th><th scope=col>childHeight</th></tr></thead>\n",
       "<tbody>\n",
       "\t<tr><td>001   </td><td>78.5  </td><td>67.0  </td><td>75.43 </td><td>4     </td><td>1     </td><td>male  </td><td>73.2  </td></tr>\n",
       "\t<tr><td>001   </td><td>78.5  </td><td>67.0  </td><td>75.43 </td><td>4     </td><td>2     </td><td>female</td><td>69.2  </td></tr>\n",
       "\t<tr><td>001   </td><td>78.5  </td><td>67.0  </td><td>75.43 </td><td>4     </td><td>3     </td><td>female</td><td>69.0  </td></tr>\n",
       "\t<tr><td>001   </td><td>78.5  </td><td>67.0  </td><td>75.43 </td><td>4     </td><td>4     </td><td>female</td><td>69.0  </td></tr>\n",
       "\t<tr><td>002   </td><td>75.5  </td><td>66.5  </td><td>73.66 </td><td>4     </td><td>1     </td><td>male  </td><td>73.5  </td></tr>\n",
       "\t<tr><td>002   </td><td>75.5  </td><td>66.5  </td><td>73.66 </td><td>4     </td><td>2     </td><td>male  </td><td>72.5  </td></tr>\n",
       "\t<tr><td>002   </td><td>75.5  </td><td>66.5  </td><td>73.66 </td><td>4     </td><td>3     </td><td>female</td><td>65.5  </td></tr>\n",
       "\t<tr><td>002   </td><td>75.5  </td><td>66.5  </td><td>73.66 </td><td>4     </td><td>4     </td><td>female</td><td>65.5  </td></tr>\n",
       "\t<tr><td>003   </td><td>75.0  </td><td>64.0  </td><td>72.06 </td><td>2     </td><td>1     </td><td>male  </td><td>71.0  </td></tr>\n",
       "\t<tr><td>003   </td><td>75.0  </td><td>64.0  </td><td>72.06 </td><td>2     </td><td>2     </td><td>female</td><td>68.0  </td></tr>\n",
       "\t<tr><td>004   </td><td>75.0  </td><td>64.0  </td><td>72.06 </td><td>5     </td><td>1     </td><td>male  </td><td>70.5  </td></tr>\n",
       "\t<tr><td>004   </td><td>75.0  </td><td>64.0  </td><td>72.06 </td><td>5     </td><td>2     </td><td>male  </td><td>68.5  </td></tr>\n",
       "\t<tr><td>004   </td><td>75.0  </td><td>64.0  </td><td>72.06 </td><td>5     </td><td>3     </td><td>female</td><td>67.0  </td></tr>\n",
       "\t<tr><td>004   </td><td>75.0  </td><td>64.0  </td><td>72.06 </td><td>5     </td><td>4     </td><td>female</td><td>64.5  </td></tr>\n",
       "\t<tr><td>004   </td><td>75.0  </td><td>64.0  </td><td>72.06 </td><td>5     </td><td>5     </td><td>female</td><td>63.0  </td></tr>\n",
       "\t<tr><td>005   </td><td>75.0  </td><td>58.5  </td><td>69.09 </td><td>6     </td><td>1     </td><td>male  </td><td>72.0  </td></tr>\n",
       "\t<tr><td>005   </td><td>75.0  </td><td>58.5  </td><td>69.09 </td><td>6     </td><td>2     </td><td>male  </td><td>69.0  </td></tr>\n",
       "\t<tr><td>005   </td><td>75.0  </td><td>58.5  </td><td>69.09 </td><td>6     </td><td>3     </td><td>male  </td><td>68.0  </td></tr>\n",
       "\t<tr><td>005   </td><td>75.0  </td><td>58.5  </td><td>69.09 </td><td>6     </td><td>4     </td><td>female</td><td>66.5  </td></tr>\n",
       "\t<tr><td>005   </td><td>75.0  </td><td>58.5  </td><td>69.09 </td><td>6     </td><td>5     </td><td>female</td><td>62.5  </td></tr>\n",
       "\t<tr><td>005   </td><td>75.0  </td><td>58.5  </td><td>69.09 </td><td>6     </td><td>6     </td><td>female</td><td>62.5  </td></tr>\n",
       "\t<tr><td>006   </td><td>74.0  </td><td>68.0  </td><td>73.72 </td><td>1     </td><td>1     </td><td>female</td><td>69.5  </td></tr>\n",
       "\t<tr><td>007   </td><td>74.0  </td><td>68.0  </td><td>73.72 </td><td>6     </td><td>1     </td><td>male  </td><td>76.5  </td></tr>\n",
       "\t<tr><td>007   </td><td>74.0  </td><td>68.0  </td><td>73.72 </td><td>6     </td><td>2     </td><td>male  </td><td>74.0  </td></tr>\n",
       "\t<tr><td>007   </td><td>74.0  </td><td>68.0  </td><td>73.72 </td><td>6     </td><td>3     </td><td>male  </td><td>73.0  </td></tr>\n",
       "\t<tr><td>007   </td><td>74.0  </td><td>68.0  </td><td>73.72 </td><td>6     </td><td>4     </td><td>male  </td><td>73.0  </td></tr>\n",
       "\t<tr><td>007   </td><td>74.0  </td><td>68.0  </td><td>73.72 </td><td>6     </td><td>5     </td><td>female</td><td>70.5  </td></tr>\n",
       "\t<tr><td>007   </td><td>74.0  </td><td>68.0  </td><td>73.72 </td><td>6     </td><td>6     </td><td>female</td><td>64.0  </td></tr>\n",
       "\t<tr><td>008   </td><td>74.0  </td><td>66.5  </td><td>72.91 </td><td>3     </td><td>1     </td><td>female</td><td>70.5  </td></tr>\n",
       "\t<tr><td>008   </td><td>74.0  </td><td>66.5  </td><td>72.91 </td><td>3     </td><td>2     </td><td>female</td><td>68.0  </td></tr>\n",
       "\t<tr><td>⋮</td><td>⋮</td><td>⋮</td><td>⋮</td><td>⋮</td><td>⋮</td><td>⋮</td><td>⋮</td></tr>\n",
       "\t<tr><td>196   </td><td>65.5  </td><td>63.0  </td><td>66.77 </td><td>4     </td><td>4     </td><td>female</td><td>63.5  </td></tr>\n",
       "\t<tr><td>197   </td><td>65.5  </td><td>60.0  </td><td>65.15 </td><td>5     </td><td>1     </td><td>male  </td><td>68.0  </td></tr>\n",
       "\t<tr><td>197   </td><td>65.5  </td><td>60.0  </td><td>65.15 </td><td>5     </td><td>2     </td><td>male  </td><td>68.0  </td></tr>\n",
       "\t<tr><td>197   </td><td>65.5  </td><td>60.0  </td><td>65.15 </td><td>5     </td><td>3     </td><td>male  </td><td>67.0  </td></tr>\n",
       "\t<tr><td>197   </td><td>65.5  </td><td>60.0  </td><td>65.15 </td><td>5     </td><td>4     </td><td>male  </td><td>67.0  </td></tr>\n",
       "\t<tr><td>197   </td><td>65.5  </td><td>60.0  </td><td>65.15 </td><td>5     </td><td>5     </td><td>female</td><td>62.0  </td></tr>\n",
       "\t<tr><td>198   </td><td>64.0  </td><td>64.0  </td><td>66.56 </td><td>7     </td><td>1     </td><td>male  </td><td>71.5  </td></tr>\n",
       "\t<tr><td>198   </td><td>64.0  </td><td>64.0  </td><td>66.56 </td><td>7     </td><td>2     </td><td>male  </td><td>68.0  </td></tr>\n",
       "\t<tr><td>198   </td><td>64.0  </td><td>64.0  </td><td>66.56 </td><td>7     </td><td>3     </td><td>female</td><td>65.5  </td></tr>\n",
       "\t<tr><td>198   </td><td>64.0  </td><td>64.0  </td><td>66.56 </td><td>7     </td><td>4     </td><td>female</td><td>64.0  </td></tr>\n",
       "\t<tr><td>198   </td><td>64.0  </td><td>64.0  </td><td>66.56 </td><td>7     </td><td>5     </td><td>female</td><td>62.0  </td></tr>\n",
       "\t<tr><td>198   </td><td>64.0  </td><td>64.0  </td><td>66.56 </td><td>7     </td><td>6     </td><td>female</td><td>62.0  </td></tr>\n",
       "\t<tr><td>198   </td><td>64.0  </td><td>64.0  </td><td>66.56 </td><td>7     </td><td>7     </td><td>female</td><td>61.0  </td></tr>\n",
       "\t<tr><td>199   </td><td>64.0  </td><td>64.0  </td><td>66.56 </td><td>7     </td><td>1     </td><td>male  </td><td>70.5  </td></tr>\n",
       "\t<tr><td>199   </td><td>64.0  </td><td>64.0  </td><td>66.56 </td><td>7     </td><td>2     </td><td>male  </td><td>68.0  </td></tr>\n",
       "\t<tr><td>199   </td><td>64.0  </td><td>64.0  </td><td>66.56 </td><td>7     </td><td>3     </td><td>female</td><td>67.0  </td></tr>\n",
       "\t<tr><td>199   </td><td>64.0  </td><td>64.0  </td><td>66.56 </td><td>7     </td><td>4     </td><td>female</td><td>65.0  </td></tr>\n",
       "\t<tr><td>199   </td><td>64.0  </td><td>64.0  </td><td>66.56 </td><td>7     </td><td>5     </td><td>female</td><td>64.0  </td></tr>\n",
       "\t<tr><td>199   </td><td>64.0  </td><td>64.0  </td><td>66.56 </td><td>7     </td><td>6     </td><td>female</td><td>64.0  </td></tr>\n",
       "\t<tr><td>199   </td><td>64.0  </td><td>64.0  </td><td>66.56 </td><td>7     </td><td>7     </td><td>female</td><td>60.0  </td></tr>\n",
       "\t<tr><td>200   </td><td>64.0  </td><td>63.0  </td><td>66.02 </td><td>1     </td><td>1     </td><td>male  </td><td>64.5  </td></tr>\n",
       "\t<tr><td>201   </td><td>64.0  </td><td>60.0  </td><td>64.40 </td><td>2     </td><td>1     </td><td>male  </td><td>66.0  </td></tr>\n",
       "\t<tr><td>201   </td><td>64.0  </td><td>60.0  </td><td>64.40 </td><td>2     </td><td>2     </td><td>female</td><td>60.0  </td></tr>\n",
       "\t<tr><td>202   </td><td>63.0  </td><td>63.5  </td><td>65.79 </td><td>2     </td><td>1     </td><td>female</td><td>68.5  </td></tr>\n",
       "\t<tr><td>202   </td><td>63.0  </td><td>63.5  </td><td>65.79 </td><td>2     </td><td>2     </td><td>female</td><td>63.5  </td></tr>\n",
       "\t<tr><td>203   </td><td>62.0  </td><td>66.0  </td><td>66.64 </td><td>3     </td><td>1     </td><td>male  </td><td>64.0  </td></tr>\n",
       "\t<tr><td>203   </td><td>62.0  </td><td>66.0  </td><td>66.64 </td><td>3     </td><td>2     </td><td>female</td><td>62.0  </td></tr>\n",
       "\t<tr><td>203   </td><td>62.0  </td><td>66.0  </td><td>66.64 </td><td>3     </td><td>3     </td><td>female</td><td>61.0  </td></tr>\n",
       "\t<tr><td>204   </td><td>62.5  </td><td>63.0  </td><td>65.27 </td><td>2     </td><td>1     </td><td>male  </td><td>66.5  </td></tr>\n",
       "\t<tr><td>204   </td><td>62.5  </td><td>63.0  </td><td>65.27 </td><td>2     </td><td>2     </td><td>female</td><td>57.0  </td></tr>\n",
       "</tbody>\n",
       "</table>\n"
      ],
      "text/latex": [
       "\\begin{tabular}{r|llllllll}\n",
       " family & father & mother & midparentHeight & children & childNum & gender & childHeight\\\\\n",
       "\\hline\n",
       "\t 001    & 78.5   & 67.0   & 75.43  & 4      & 1      & male   & 73.2  \\\\\n",
       "\t 001    & 78.5   & 67.0   & 75.43  & 4      & 2      & female & 69.2  \\\\\n",
       "\t 001    & 78.5   & 67.0   & 75.43  & 4      & 3      & female & 69.0  \\\\\n",
       "\t 001    & 78.5   & 67.0   & 75.43  & 4      & 4      & female & 69.0  \\\\\n",
       "\t 002    & 75.5   & 66.5   & 73.66  & 4      & 1      & male   & 73.5  \\\\\n",
       "\t 002    & 75.5   & 66.5   & 73.66  & 4      & 2      & male   & 72.5  \\\\\n",
       "\t 002    & 75.5   & 66.5   & 73.66  & 4      & 3      & female & 65.5  \\\\\n",
       "\t 002    & 75.5   & 66.5   & 73.66  & 4      & 4      & female & 65.5  \\\\\n",
       "\t 003    & 75.0   & 64.0   & 72.06  & 2      & 1      & male   & 71.0  \\\\\n",
       "\t 003    & 75.0   & 64.0   & 72.06  & 2      & 2      & female & 68.0  \\\\\n",
       "\t 004    & 75.0   & 64.0   & 72.06  & 5      & 1      & male   & 70.5  \\\\\n",
       "\t 004    & 75.0   & 64.0   & 72.06  & 5      & 2      & male   & 68.5  \\\\\n",
       "\t 004    & 75.0   & 64.0   & 72.06  & 5      & 3      & female & 67.0  \\\\\n",
       "\t 004    & 75.0   & 64.0   & 72.06  & 5      & 4      & female & 64.5  \\\\\n",
       "\t 004    & 75.0   & 64.0   & 72.06  & 5      & 5      & female & 63.0  \\\\\n",
       "\t 005    & 75.0   & 58.5   & 69.09  & 6      & 1      & male   & 72.0  \\\\\n",
       "\t 005    & 75.0   & 58.5   & 69.09  & 6      & 2      & male   & 69.0  \\\\\n",
       "\t 005    & 75.0   & 58.5   & 69.09  & 6      & 3      & male   & 68.0  \\\\\n",
       "\t 005    & 75.0   & 58.5   & 69.09  & 6      & 4      & female & 66.5  \\\\\n",
       "\t 005    & 75.0   & 58.5   & 69.09  & 6      & 5      & female & 62.5  \\\\\n",
       "\t 005    & 75.0   & 58.5   & 69.09  & 6      & 6      & female & 62.5  \\\\\n",
       "\t 006    & 74.0   & 68.0   & 73.72  & 1      & 1      & female & 69.5  \\\\\n",
       "\t 007    & 74.0   & 68.0   & 73.72  & 6      & 1      & male   & 76.5  \\\\\n",
       "\t 007    & 74.0   & 68.0   & 73.72  & 6      & 2      & male   & 74.0  \\\\\n",
       "\t 007    & 74.0   & 68.0   & 73.72  & 6      & 3      & male   & 73.0  \\\\\n",
       "\t 007    & 74.0   & 68.0   & 73.72  & 6      & 4      & male   & 73.0  \\\\\n",
       "\t 007    & 74.0   & 68.0   & 73.72  & 6      & 5      & female & 70.5  \\\\\n",
       "\t 007    & 74.0   & 68.0   & 73.72  & 6      & 6      & female & 64.0  \\\\\n",
       "\t 008    & 74.0   & 66.5   & 72.91  & 3      & 1      & female & 70.5  \\\\\n",
       "\t 008    & 74.0   & 66.5   & 72.91  & 3      & 2      & female & 68.0  \\\\\n",
       "\t ⋮ & ⋮ & ⋮ & ⋮ & ⋮ & ⋮ & ⋮ & ⋮\\\\\n",
       "\t 196    & 65.5   & 63.0   & 66.77  & 4      & 4      & female & 63.5  \\\\\n",
       "\t 197    & 65.5   & 60.0   & 65.15  & 5      & 1      & male   & 68.0  \\\\\n",
       "\t 197    & 65.5   & 60.0   & 65.15  & 5      & 2      & male   & 68.0  \\\\\n",
       "\t 197    & 65.5   & 60.0   & 65.15  & 5      & 3      & male   & 67.0  \\\\\n",
       "\t 197    & 65.5   & 60.0   & 65.15  & 5      & 4      & male   & 67.0  \\\\\n",
       "\t 197    & 65.5   & 60.0   & 65.15  & 5      & 5      & female & 62.0  \\\\\n",
       "\t 198    & 64.0   & 64.0   & 66.56  & 7      & 1      & male   & 71.5  \\\\\n",
       "\t 198    & 64.0   & 64.0   & 66.56  & 7      & 2      & male   & 68.0  \\\\\n",
       "\t 198    & 64.0   & 64.0   & 66.56  & 7      & 3      & female & 65.5  \\\\\n",
       "\t 198    & 64.0   & 64.0   & 66.56  & 7      & 4      & female & 64.0  \\\\\n",
       "\t 198    & 64.0   & 64.0   & 66.56  & 7      & 5      & female & 62.0  \\\\\n",
       "\t 198    & 64.0   & 64.0   & 66.56  & 7      & 6      & female & 62.0  \\\\\n",
       "\t 198    & 64.0   & 64.0   & 66.56  & 7      & 7      & female & 61.0  \\\\\n",
       "\t 199    & 64.0   & 64.0   & 66.56  & 7      & 1      & male   & 70.5  \\\\\n",
       "\t 199    & 64.0   & 64.0   & 66.56  & 7      & 2      & male   & 68.0  \\\\\n",
       "\t 199    & 64.0   & 64.0   & 66.56  & 7      & 3      & female & 67.0  \\\\\n",
       "\t 199    & 64.0   & 64.0   & 66.56  & 7      & 4      & female & 65.0  \\\\\n",
       "\t 199    & 64.0   & 64.0   & 66.56  & 7      & 5      & female & 64.0  \\\\\n",
       "\t 199    & 64.0   & 64.0   & 66.56  & 7      & 6      & female & 64.0  \\\\\n",
       "\t 199    & 64.0   & 64.0   & 66.56  & 7      & 7      & female & 60.0  \\\\\n",
       "\t 200    & 64.0   & 63.0   & 66.02  & 1      & 1      & male   & 64.5  \\\\\n",
       "\t 201    & 64.0   & 60.0   & 64.40  & 2      & 1      & male   & 66.0  \\\\\n",
       "\t 201    & 64.0   & 60.0   & 64.40  & 2      & 2      & female & 60.0  \\\\\n",
       "\t 202    & 63.0   & 63.5   & 65.79  & 2      & 1      & female & 68.5  \\\\\n",
       "\t 202    & 63.0   & 63.5   & 65.79  & 2      & 2      & female & 63.5  \\\\\n",
       "\t 203    & 62.0   & 66.0   & 66.64  & 3      & 1      & male   & 64.0  \\\\\n",
       "\t 203    & 62.0   & 66.0   & 66.64  & 3      & 2      & female & 62.0  \\\\\n",
       "\t 203    & 62.0   & 66.0   & 66.64  & 3      & 3      & female & 61.0  \\\\\n",
       "\t 204    & 62.5   & 63.0   & 65.27  & 2      & 1      & male   & 66.5  \\\\\n",
       "\t 204    & 62.5   & 63.0   & 65.27  & 2      & 2      & female & 57.0  \\\\\n",
       "\\end{tabular}\n"
      ],
      "text/markdown": [
       "\n",
       "family | father | mother | midparentHeight | children | childNum | gender | childHeight | \n",
       "|---|---|---|---|---|---|---|---|---|---|---|---|---|---|---|---|---|---|---|---|---|---|---|---|---|---|---|---|---|---|---|---|---|---|---|---|---|---|---|---|---|---|---|---|---|---|---|---|---|---|---|---|---|---|---|---|---|---|---|---|---|\n",
       "| 001    | 78.5   | 67.0   | 75.43  | 4      | 1      | male   | 73.2   | \n",
       "| 001    | 78.5   | 67.0   | 75.43  | 4      | 2      | female | 69.2   | \n",
       "| 001    | 78.5   | 67.0   | 75.43  | 4      | 3      | female | 69.0   | \n",
       "| 001    | 78.5   | 67.0   | 75.43  | 4      | 4      | female | 69.0   | \n",
       "| 002    | 75.5   | 66.5   | 73.66  | 4      | 1      | male   | 73.5   | \n",
       "| 002    | 75.5   | 66.5   | 73.66  | 4      | 2      | male   | 72.5   | \n",
       "| 002    | 75.5   | 66.5   | 73.66  | 4      | 3      | female | 65.5   | \n",
       "| 002    | 75.5   | 66.5   | 73.66  | 4      | 4      | female | 65.5   | \n",
       "| 003    | 75.0   | 64.0   | 72.06  | 2      | 1      | male   | 71.0   | \n",
       "| 003    | 75.0   | 64.0   | 72.06  | 2      | 2      | female | 68.0   | \n",
       "| 004    | 75.0   | 64.0   | 72.06  | 5      | 1      | male   | 70.5   | \n",
       "| 004    | 75.0   | 64.0   | 72.06  | 5      | 2      | male   | 68.5   | \n",
       "| 004    | 75.0   | 64.0   | 72.06  | 5      | 3      | female | 67.0   | \n",
       "| 004    | 75.0   | 64.0   | 72.06  | 5      | 4      | female | 64.5   | \n",
       "| 004    | 75.0   | 64.0   | 72.06  | 5      | 5      | female | 63.0   | \n",
       "| 005    | 75.0   | 58.5   | 69.09  | 6      | 1      | male   | 72.0   | \n",
       "| 005    | 75.0   | 58.5   | 69.09  | 6      | 2      | male   | 69.0   | \n",
       "| 005    | 75.0   | 58.5   | 69.09  | 6      | 3      | male   | 68.0   | \n",
       "| 005    | 75.0   | 58.5   | 69.09  | 6      | 4      | female | 66.5   | \n",
       "| 005    | 75.0   | 58.5   | 69.09  | 6      | 5      | female | 62.5   | \n",
       "| 005    | 75.0   | 58.5   | 69.09  | 6      | 6      | female | 62.5   | \n",
       "| 006    | 74.0   | 68.0   | 73.72  | 1      | 1      | female | 69.5   | \n",
       "| 007    | 74.0   | 68.0   | 73.72  | 6      | 1      | male   | 76.5   | \n",
       "| 007    | 74.0   | 68.0   | 73.72  | 6      | 2      | male   | 74.0   | \n",
       "| 007    | 74.0   | 68.0   | 73.72  | 6      | 3      | male   | 73.0   | \n",
       "| 007    | 74.0   | 68.0   | 73.72  | 6      | 4      | male   | 73.0   | \n",
       "| 007    | 74.0   | 68.0   | 73.72  | 6      | 5      | female | 70.5   | \n",
       "| 007    | 74.0   | 68.0   | 73.72  | 6      | 6      | female | 64.0   | \n",
       "| 008    | 74.0   | 66.5   | 72.91  | 3      | 1      | female | 70.5   | \n",
       "| 008    | 74.0   | 66.5   | 72.91  | 3      | 2      | female | 68.0   | \n",
       "| ⋮ | ⋮ | ⋮ | ⋮ | ⋮ | ⋮ | ⋮ | ⋮ | \n",
       "| 196    | 65.5   | 63.0   | 66.77  | 4      | 4      | female | 63.5   | \n",
       "| 197    | 65.5   | 60.0   | 65.15  | 5      | 1      | male   | 68.0   | \n",
       "| 197    | 65.5   | 60.0   | 65.15  | 5      | 2      | male   | 68.0   | \n",
       "| 197    | 65.5   | 60.0   | 65.15  | 5      | 3      | male   | 67.0   | \n",
       "| 197    | 65.5   | 60.0   | 65.15  | 5      | 4      | male   | 67.0   | \n",
       "| 197    | 65.5   | 60.0   | 65.15  | 5      | 5      | female | 62.0   | \n",
       "| 198    | 64.0   | 64.0   | 66.56  | 7      | 1      | male   | 71.5   | \n",
       "| 198    | 64.0   | 64.0   | 66.56  | 7      | 2      | male   | 68.0   | \n",
       "| 198    | 64.0   | 64.0   | 66.56  | 7      | 3      | female | 65.5   | \n",
       "| 198    | 64.0   | 64.0   | 66.56  | 7      | 4      | female | 64.0   | \n",
       "| 198    | 64.0   | 64.0   | 66.56  | 7      | 5      | female | 62.0   | \n",
       "| 198    | 64.0   | 64.0   | 66.56  | 7      | 6      | female | 62.0   | \n",
       "| 198    | 64.0   | 64.0   | 66.56  | 7      | 7      | female | 61.0   | \n",
       "| 199    | 64.0   | 64.0   | 66.56  | 7      | 1      | male   | 70.5   | \n",
       "| 199    | 64.0   | 64.0   | 66.56  | 7      | 2      | male   | 68.0   | \n",
       "| 199    | 64.0   | 64.0   | 66.56  | 7      | 3      | female | 67.0   | \n",
       "| 199    | 64.0   | 64.0   | 66.56  | 7      | 4      | female | 65.0   | \n",
       "| 199    | 64.0   | 64.0   | 66.56  | 7      | 5      | female | 64.0   | \n",
       "| 199    | 64.0   | 64.0   | 66.56  | 7      | 6      | female | 64.0   | \n",
       "| 199    | 64.0   | 64.0   | 66.56  | 7      | 7      | female | 60.0   | \n",
       "| 200    | 64.0   | 63.0   | 66.02  | 1      | 1      | male   | 64.5   | \n",
       "| 201    | 64.0   | 60.0   | 64.40  | 2      | 1      | male   | 66.0   | \n",
       "| 201    | 64.0   | 60.0   | 64.40  | 2      | 2      | female | 60.0   | \n",
       "| 202    | 63.0   | 63.5   | 65.79  | 2      | 1      | female | 68.5   | \n",
       "| 202    | 63.0   | 63.5   | 65.79  | 2      | 2      | female | 63.5   | \n",
       "| 203    | 62.0   | 66.0   | 66.64  | 3      | 1      | male   | 64.0   | \n",
       "| 203    | 62.0   | 66.0   | 66.64  | 3      | 2      | female | 62.0   | \n",
       "| 203    | 62.0   | 66.0   | 66.64  | 3      | 3      | female | 61.0   | \n",
       "| 204    | 62.5   | 63.0   | 65.27  | 2      | 1      | male   | 66.5   | \n",
       "| 204    | 62.5   | 63.0   | 65.27  | 2      | 2      | female | 57.0   | \n",
       "\n",
       "\n"
      ],
      "text/plain": [
       "    family father mother midparentHeight children childNum gender childHeight\n",
       "1   001    78.5   67.0   75.43           4        1        male   73.2       \n",
       "2   001    78.5   67.0   75.43           4        2        female 69.2       \n",
       "3   001    78.5   67.0   75.43           4        3        female 69.0       \n",
       "4   001    78.5   67.0   75.43           4        4        female 69.0       \n",
       "5   002    75.5   66.5   73.66           4        1        male   73.5       \n",
       "6   002    75.5   66.5   73.66           4        2        male   72.5       \n",
       "7   002    75.5   66.5   73.66           4        3        female 65.5       \n",
       "8   002    75.5   66.5   73.66           4        4        female 65.5       \n",
       "9   003    75.0   64.0   72.06           2        1        male   71.0       \n",
       "10  003    75.0   64.0   72.06           2        2        female 68.0       \n",
       "11  004    75.0   64.0   72.06           5        1        male   70.5       \n",
       "12  004    75.0   64.0   72.06           5        2        male   68.5       \n",
       "13  004    75.0   64.0   72.06           5        3        female 67.0       \n",
       "14  004    75.0   64.0   72.06           5        4        female 64.5       \n",
       "15  004    75.0   64.0   72.06           5        5        female 63.0       \n",
       "16  005    75.0   58.5   69.09           6        1        male   72.0       \n",
       "17  005    75.0   58.5   69.09           6        2        male   69.0       \n",
       "18  005    75.0   58.5   69.09           6        3        male   68.0       \n",
       "19  005    75.0   58.5   69.09           6        4        female 66.5       \n",
       "20  005    75.0   58.5   69.09           6        5        female 62.5       \n",
       "21  005    75.0   58.5   69.09           6        6        female 62.5       \n",
       "22  006    74.0   68.0   73.72           1        1        female 69.5       \n",
       "23  007    74.0   68.0   73.72           6        1        male   76.5       \n",
       "24  007    74.0   68.0   73.72           6        2        male   74.0       \n",
       "25  007    74.0   68.0   73.72           6        3        male   73.0       \n",
       "26  007    74.0   68.0   73.72           6        4        male   73.0       \n",
       "27  007    74.0   68.0   73.72           6        5        female 70.5       \n",
       "28  007    74.0   68.0   73.72           6        6        female 64.0       \n",
       "29  008    74.0   66.5   72.91           3        1        female 70.5       \n",
       "30  008    74.0   66.5   72.91           3        2        female 68.0       \n",
       "⋮   ⋮      ⋮      ⋮      ⋮               ⋮        ⋮        ⋮      ⋮          \n",
       "905 196    65.5   63.0   66.77           4        4        female 63.5       \n",
       "906 197    65.5   60.0   65.15           5        1        male   68.0       \n",
       "907 197    65.5   60.0   65.15           5        2        male   68.0       \n",
       "908 197    65.5   60.0   65.15           5        3        male   67.0       \n",
       "909 197    65.5   60.0   65.15           5        4        male   67.0       \n",
       "910 197    65.5   60.0   65.15           5        5        female 62.0       \n",
       "911 198    64.0   64.0   66.56           7        1        male   71.5       \n",
       "912 198    64.0   64.0   66.56           7        2        male   68.0       \n",
       "913 198    64.0   64.0   66.56           7        3        female 65.5       \n",
       "914 198    64.0   64.0   66.56           7        4        female 64.0       \n",
       "915 198    64.0   64.0   66.56           7        5        female 62.0       \n",
       "916 198    64.0   64.0   66.56           7        6        female 62.0       \n",
       "917 198    64.0   64.0   66.56           7        7        female 61.0       \n",
       "918 199    64.0   64.0   66.56           7        1        male   70.5       \n",
       "919 199    64.0   64.0   66.56           7        2        male   68.0       \n",
       "920 199    64.0   64.0   66.56           7        3        female 67.0       \n",
       "921 199    64.0   64.0   66.56           7        4        female 65.0       \n",
       "922 199    64.0   64.0   66.56           7        5        female 64.0       \n",
       "923 199    64.0   64.0   66.56           7        6        female 64.0       \n",
       "924 199    64.0   64.0   66.56           7        7        female 60.0       \n",
       "925 200    64.0   63.0   66.02           1        1        male   64.5       \n",
       "926 201    64.0   60.0   64.40           2        1        male   66.0       \n",
       "927 201    64.0   60.0   64.40           2        2        female 60.0       \n",
       "928 202    63.0   63.5   65.79           2        1        female 68.5       \n",
       "929 202    63.0   63.5   65.79           2        2        female 63.5       \n",
       "930 203    62.0   66.0   66.64           3        1        male   64.0       \n",
       "931 203    62.0   66.0   66.64           3        2        female 62.0       \n",
       "932 203    62.0   66.0   66.64           3        3        female 61.0       \n",
       "933 204    62.5   63.0   65.27           2        1        male   66.5       \n",
       "934 204    62.5   63.0   65.27           2        2        female 57.0       "
      ]
     },
     "metadata": {},
     "output_type": "display_data"
    }
   ],
   "source": [
    "library(HistData)\n",
    "df = GaltonFamilies\n",
    "df"
   ]
  },
  {
   "cell_type": "markdown",
   "metadata": {},
   "source": [
    "### Types of Data\n",
    "Now, let's take a closer look at this data (you can click the left margin next to the dataset to toggle between full height and a scrollable pane). There are 933 observations, each one recording information pertaining to an individual child. The information recorded consists of the following features:\n",
    "- **family**: An identifier for the family to which the child belongs.\n",
    "- **father**: The height of the father.\n",
    "- ** mother**: The height of the mother.\n",
    "- **midparentHeight**: The mid-point between the father and mother's heights (calculated as *(father + 1.08 x mother) &div; 2*)\n",
    "- **children**: The total number of children in the family.\n",
    "- **childNum**: The number of the child to whom this observation pertains (Galton numbered the children in descending order of height, with male children listed before female children)\n",
    "- **gender**: The gender of the child to whom this observation pertains.\n",
    "- **childHeight**: The height of the child to whom this observation pertains.\n",
    "\n",
    "It's worth noting that there are several distinct types of data recorded here. To begin with, there are some features that represent *qualities*, or characteristics of the child - for example, gender. Other features represent a *quantity* or measurement, such as the child's height. So broadly speaking, we can divide data into *qualitative* and *quantitative* data.\n",
    "\n",
    "#### Qualitative Data\n",
    "Let's take a look at qualitative data first. This type of data is categorical - it is used to categorize or identify the entity being observed. Sometimes you'll see features of this type described as *factors*. \n",
    "##### Nominal Data\n",
    "In his observations of children's height, Galton assigned an identifier to each family and he recorded the gender of each child. Note that even though the **family** identifier is a number, it is not a measurement or quantity. Family 002 it not \"greater\" than family 001, just as a **gender** value of \"male\" does not indicate a larger or smaller value than \"female\". These are simply named values for some characteristic of the child, and as such they're known as *nominal* data.\n",
    "##### Ordinal Data\n",
    "So what about the **childNum** feature? It's not a measurement or quantity - it's just a way to identify individual children within a family. However, the number assigned to each child has some additional meaning - the numbers are ordered. You can find similar data that is text-based; for example, data about training courses might include a \"level\" attribute that indicates the level of the course as \"basic:, \"intermediate\", or \"advanced\". This type of data, where the value is not itself a quantity or measurement, but it indicates some sort of inherent order or hierarchy, is known as *ordinal* data.\n",
    "#### Quantitative Data\n",
    "Now let's turn our attention to the features that indicate some kind of quantity or measurement.\n",
    "##### Discrete Data\n",
    "Galton's observations include the number of **children** in each family. This is a *discrete* quantitative data value - it's something we *count* rather than *measure*. You can't, for example, have 2.33 children!\n",
    "##### Continuous Data\n",
    "The data set also includes height values for **father**, **mother**, **midparentHeight**, and **childHeight**. These are measurements along a scale, and as such they're described as *continuous* quantitative data values that we *measure* rather than *count*.\n",
    "\n",
    "### Sample vs Population\n",
    "Galton's dataset includes 933 observations. It's safe to assume that this does not account for every person in the world, or even just the UK, in 1886 when the data was collected. In other words, Galton's data represents a *sample* of a larger *population*. It's worth pausing to think about this for a few seconds, because there are some implications for any conclusions we might draw from Galton's observations.\n",
    "\n",
    "Think about how many times you see a claim such as \"one in four Americans enjoys watching football\". How do the people who make this claim know that this is a fact? Have they asked everyone in the the US about their football-watching habits? Well, that would be a bit impractical, so what usually happens is that a study is conducted on a subset of the population, and (assuming that this is a well-conducted study), that subset will be a representative sample of the population as a whole. If the survey was conducted at the stadium where the Superbowl is being played, then the results are likely to be skewed because of a bias in the study participants.\n",
    "\n",
    "Similarly, we might look at Galton's data and assume that the heights of the people included in the study bears some relation to the heights of the general population in 1886; but if Galton specifically selected abnormally tall people for his study, then this assumption would be unfounded.\n",
    "\n",
    "When we deal with statistics, we usually work with a sample of the data rather than a full population. As you'll see later, this affects the way we use notation to indicate statistical measures; and in some cases we calculate statistics from a sample differently than from a full population to account for bias in the sample."
   ]
  },
  {
   "cell_type": "markdown",
   "metadata": {},
   "source": [
    "### Visualizing Data\n",
    "Data visualization is one of the key ways in which we can examine data and get insights from it. If a picture is worth a thousand words, then a good graph or chart is worth any number of tables of data.\n",
    "\n",
    "Let's examine some common kinds of data visualization:\n",
    "#### Bar Charts\n",
    "A *bar chart* is a good way to compare numeric quantities or counts across categories. For example, in the Galton dataset, you might want to compare the number of female and male children.\n",
    "\n",
    "Here's some R code using the ggplot2 package to create a bar chart showing the number of children of each gender. Notice that the string variable **gender** is wrapped with the **factor** function to create a categorical variable for the bar chart."
   ]
  },
  {
   "cell_type": "code",
   "execution_count": null,
   "metadata": {},
   "outputs": [
    {
     "name": "stderr",
     "output_type": "stream",
     "text": [
      "Warning message:\n",
      "“package ‘ggplot2’ was built under R version 3.4.4”"
     ]
    },
    {
     "data": {},
     "metadata": {},
     "output_type": "display_data"
    }
   ],
   "source": [
    "library(ggplot2)\n",
    "library(repr)\n",
    "options(repr.plot.width=3.5, repr.plot.height=3) # Set the initial plot area dimensions\n",
    "\n",
    "ggplot(df) + geom_bar( aes(factor(gender), fill = factor(gender))) +\n",
    "             xlab('Gender of child')"
   ]
  },
  {
   "cell_type": "markdown",
   "metadata": {},
   "source": [
    "From this chart, you can see that there are slightly more male children than female children; but the data is reasonably evenly split between the two genders.\n",
    "\n",
    "Bar charts are typically used to compare categorical (qualitative) data values; but in some cases you might treat a discrete quantitative data value as a category. For example, in the Galton dataset the number of children in each family could be used as a way to categorize families. We might want to see how many families have one child, compared to how many have two children, etc.\n",
    "\n",
    "Here's some R code to create a bar chart showing family counts based on the number of children in the family."
   ]
  },
  {
   "cell_type": "code",
   "execution_count": null,
   "metadata": {
    "scrolled": false
   },
   "outputs": [],
   "source": [
    "## First need to drop the duplicates since there is one row per child and we only want \n",
    "## one count per family. Use the distinct function  from the dplyr package operating \n",
    "## on the family id column. \n",
    "library(dplyr)\n",
    "temp = distinct(df, family, children)\n",
    "\n",
    "## Make the bar chart on number of childern\n",
    "ggplot(temp) + geom_bar( aes(factor(children)), fill = 'blue') +\n",
    "               xlab('Number of children in family')"
   ]
  },
  {
   "cell_type": "markdown",
   "metadata": {},
   "source": [
    "Note that the code sorts the data so that the categories on the *x* axis are in order - attention to this sort of detail can make your charts easier to read. In this case, we can see that the most common number of children per family is 1, followed by 5 and 6. Comparatively fewer families have more than 8 children."
   ]
  },
  {
   "cell_type": "markdown",
   "metadata": {},
   "source": [
    "#### Histograms\n",
    "Bar charts work well for comparing categorical or discrete numeric values. When you need to compare continuous quantitative values, you can use a similar style of chart called a *histogram*. Histograms differ from bar charts in that they group the continuous values into ranges or *bins* - so the chart doesn't show a bar for each individual value, but rather a bar for each range of binned values. Because these bins represent continuous data rather than discrete data, the bars aren't separated by a gap. Typically, a histogram is used to show the relative frequency of values in the dataset.\n",
    "\n",
    "Here's some ggplot2 code to create a histogram of the **father** values in the Galton dataset, which record the father's height:"
   ]
  },
  {
   "cell_type": "code",
   "execution_count": null,
   "metadata": {},
   "outputs": [],
   "source": [
    "ggplot(df) + geom_histogram( aes(father), fill = 'blue') +\n",
    "             xlab('Height') +\n",
    "             ggtitle('Heights of fathers')"
   ]
  },
  {
   "cell_type": "markdown",
   "metadata": {},
   "source": [
    "The histogram shows that the most frequently occurring heights tend to be in the mid-range. There are fewer extremely short or extremely tall fathers.\n",
    "\n",
    "In the histogram above, the number of bins (and their corresponding ranges, or *bin widths*) was determined automatically by ggplot2. The resulting histogram is rather ragged look. You may want to explicitly control the number of bins, as this can help you see detail in the distribution of data values that otherwise you might miss. The following code creates a histogram for the same father's height values, but explicitly distributes them over 10 bins:"
   ]
  },
  {
   "cell_type": "code",
   "execution_count": null,
   "metadata": {},
   "outputs": [],
   "source": [
    "ggplot(df) + geom_histogram( aes(father), bins = 10, fill = 'blue') +\n",
    "             xlab('Height') +\n",
    "             ggtitle('Heights of fathers')"
   ]
  },
  {
   "cell_type": "markdown",
   "metadata": {},
   "source": [
    "We can still see that the most common heights are in the middle, but there's a notable drop in the number of fathers with a height between 67.5 and 70."
   ]
  },
  {
   "cell_type": "markdown",
   "metadata": {},
   "source": [
    "#### Pie Charts\n",
    "Pie charts are another way to compare relative quantities of categories. They're not commonly used by data scientists, but they can be useful in many business contexts with manageable numbers of categories because they not only make it easy to compare relative quantities by categories; they also show those quantities as a proportion of the whole set of data.\n",
    "\n",
    "Here's some R code to show the gender counts as a pie chart. The trick is to create a bar chart with 1 bar, use the categorical variable as the fill and specify polar coordinates for y. "
   ]
  },
  {
   "cell_type": "code",
   "execution_count": null,
   "metadata": {},
   "outputs": [],
   "source": [
    "options(repr.plot.width=5, repr.plot.height=4)\n",
    "ggplot(df, aes(x = factor(1), fill = factor(gender))) + \n",
    "             geom_bar(width = 1) +\n",
    "             coord_polar(theta = 'y') +\n",
    "             xlab('') + ylab(' ') +\n",
    "             ggtitle('Proportion of male and female children')"
   ]
  },
  {
   "cell_type": "markdown",
   "metadata": {},
   "source": [
    "Note that the chart includes a *legend* to make it clear what category each colored area in the pie chart represents. From this chart, you can see that males make up slightly more than half of the overall number of children; with females accounting for the rest."
   ]
  },
  {
   "cell_type": "markdown",
   "metadata": {},
   "source": [
    "#### Scatter Plots\n",
    "Often you'll want to compare quantitative values. This can be especially useful in data science scenarios where you are exploring data prior to building a machine learning model, as it can help identify apparent relationships between numeric features. Scatter plots can also help identify potential outliers - values that are significantly outside of the normal range of values.\n",
    "\n",
    "The following ggplot2 code creates a scatter plot that plots the intersection points for  **midparentHeight** on the *x* axis, and **childHeight** on the *y* axis. The **alpha = 0.2** argument makes the points only 20% opaque. Using high transparency makes the plot easier to interpret where points overlap. "
   ]
  },
  {
   "cell_type": "code",
   "execution_count": null,
   "metadata": {},
   "outputs": [],
   "source": [
    "options(repr.plot.width=4, repr.plot.height=4.5)\n",
    "ggplot(df, aes(x = midparentHeight, y = childHeight)) + \n",
    "      geom_point(alpha = 0.2, color = 'blue') +\n",
    "      ylab('Heigth of the child') + xlab('Midpoint height of the parents') +\n",
    "      ggtitle('Heigh of childern vs. \\n midpoint height of parents')"
   ]
  },
  {
   "cell_type": "markdown",
   "metadata": {},
   "source": [
    "In a scatter plot, each dot marks the intersection point of the two values being plotted. In this chart, most of the heights are clustered around the center; which indicates that most parents and children tend to have a height that is somewhere in the middle of the range of heights observed. At the bottom left, there's a small cluster of dots that show some parents from the shorter end of the range who have children that are also shorter than their peers. At the top right, there are a few extremely tall parents who have extremely tall children. It's also interesting to note that the top left and bottom right of the chart are empty - there aren't any cases of extremely short parents with extremely tall children or vice-versa."
   ]
  },
  {
   "cell_type": "markdown",
   "metadata": {},
   "source": [
    "#### Line Charts\n",
    "*Line charts* are a great way to see changes in values along a series - usually (but not always) based on a time period. The Galton dataset doesn't include any data of this type, so we'll use a different dataset that includes observations of average yearly temperature in New Haven between 1912 and 1971 for this example. The built in **nhtemp** dataset is formated as an R time series object. Therefore, we will use the **plot** method for time series objects to display this time series. "
   ]
  },
  {
   "cell_type": "code",
   "execution_count": null,
   "metadata": {},
   "outputs": [],
   "source": [
    "options(repr.plot.width=6, repr.plot.height=4)\n",
    "\n",
    "plot(nhtemp, xlab = 'Time in years', ylab = 'Average temperature',\n",
    "     main = 'Average annual temperature of New Haven CT')"
   ]
  },
  {
   "cell_type": "markdown",
   "metadata": {},
   "source": [
    "The line chart shows the temperature trend from left to right for the period of observations. From this chart, you can see that the average temperature fluctuates from year to year, but the general trend shows an increase between the 1940s and 1950s."
   ]
  },
  {
   "cell_type": "code",
   "execution_count": null,
   "metadata": {},
   "outputs": [],
   "source": []
  }
 ],
 "metadata": {
  "kernelspec": {
   "display_name": "R",
   "language": "R",
   "name": "ir"
  },
  "language_info": {
   "codemirror_mode": "r",
   "file_extension": ".r",
   "mimetype": "text/x-r-source",
   "name": "R",
   "pygments_lexer": "r",
   "version": "3.4.3"
  }
 },
 "nbformat": 4,
 "nbformat_minor": 2
}
